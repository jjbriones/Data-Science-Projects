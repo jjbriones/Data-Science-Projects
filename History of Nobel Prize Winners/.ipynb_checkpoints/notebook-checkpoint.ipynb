{
 "cells": [
  {
   "cell_type": "markdown",
   "id": "db5bd2ce-918a-4f7d-a927-a3ea74c4b456",
   "metadata": {},
   "source": [
    "The Nobel Prize has been among the most prestigious international awards since 1901. Each year, awards are bestowed in chemistry, literature, physics, physiology or medicine, economics, and peace. In addition to the honor, prestige, and substantial prize money, the recipient also gets a gold medal with an image of Alfred Nobel (1833 - 1896), who established the prize.\n",
    "\n",
    "![](Nobel_Prize.png)\n",
    "\n",
    "The Nobel Foundation has made a dataset available of all prize winners from the outset of the awards from 1901 to 2023. The dataset used in this project is from the Nobel Prize API and is available in the `nobel.csv` file in the `data` folder.\n"
   ]
  },
  {
   "cell_type": "code",
   "execution_count": 33,
   "id": "11fd5946-7bd1-495c-aa7f-ff6e7e4a350b",
   "metadata": {
    "chartConfig": {
     "bar": {
      "hasRoundedCorners": true,
      "stacked": false
     },
     "type": "bar",
     "version": "v1"
    },
    "executionCancelledAt": null,
    "executionTime": 33,
    "lastExecutedAt": 1708924073044,
    "lastScheduledRunId": null,
    "lastSuccessfullyExecutedCode": "# Loading in required libraries\nimport pandas as pd\nimport seaborn as sns\nimport numpy as np\n\n# Start coding here!\nnobel = pd.read_csv('data/nobel.csv')\n\n#1\ntop_gender = nobel[\"sex\"].value_counts().index[0]\ntop_country = nobel[\"birth_country\"].value_counts().index[0]\n\n#2\nnobel[\"us\"] = nobel['birth_country'] == top_country\nnobel['decade'] = (np.floor(nobel[\"year\"] / 10) * 10).astype(int)\nproportion = nobel.groupby('decade', as_index=False)['us'].mean()\nmax_decade_usa = proportion[proportion[\"us\"] == proportion[\"us\"].max()]['decade'].values[0]\n\n\n#3\nnobel[\"female\"] = nobel[\"sex\"] == 'Female'\nfemaleWinners = nobel.groupby(['decade', 'category'], as_index=False)['female'].mean()\nmaxFemale = femaleWinners[femaleWinners['female'] == femaleWinners['female'].max()][['decade', 'category']]\n\nmax_female_dict = {maxFemale[\"decade\"].values[0]: maxFemale[\"category\"].values[0]}\n\n#4\noneFemale = nobel[nobel[\"female\"]]\nminyear = oneFemale[oneFemale['year'] == oneFemale['year'].min()]\nfirst_woman_name = minyear[\"full_name\"].values[0]\nfirst_woman_category = minyear[\"category\"].values[0]\n\n#5\nnumber = nobel[\"full_name\"].value_counts()\nrepeat_list = list(number[number >= 2].index)\n\nprint(max_female_dict)\n",
    "outputsMetadata": {
     "0": {
      "height": 37,
      "type": "stream"
     }
    },
    "visualizeDataframe": false
   },
   "outputs": [
    {
     "name": "stdout",
     "output_type": "stream",
     "text": [
      "{2020: 'Literature'}\n"
     ]
    }
   ],
   "source": [
    "# Loading in required libraries\n",
    "import pandas as pd\n",
    "import seaborn as sns\n",
    "import numpy as np\n",
    "\n",
    "# Start coding here!\n",
    "nobel = pd.read_csv('data/nobel.csv')\n",
    "\n",
    "#1\n",
    "top_gender = nobel[\"sex\"].value_counts().index[0]\n",
    "top_country = nobel[\"birth_country\"].value_counts().index[0]\n",
    "\n",
    "#2\n",
    "nobel[\"us\"] = nobel['birth_country'] == top_country\n",
    "nobel['decade'] = (np.floor(nobel[\"year\"] / 10) * 10).astype(int)\n",
    "proportion = nobel.groupby('decade', as_index=False)['us'].mean()\n",
    "max_decade_usa = proportion[proportion[\"us\"] == proportion[\"us\"].max()]['decade'].values[0]\n",
    "\n",
    "\n",
    "#3\n",
    "nobel[\"female\"] = nobel[\"sex\"] == 'Female'\n",
    "femaleWinners = nobel.groupby(['decade', 'category'], as_index=False)['female'].mean()\n",
    "maxFemale = femaleWinners[femaleWinners['female'] == femaleWinners['female'].max()][['decade', 'category']]\n",
    "\n",
    "max_female_dict = {maxFemale[\"decade\"].values[0]: maxFemale[\"category\"].values[0]}\n",
    "\n",
    "#4\n",
    "oneFemale = nobel[nobel[\"female\"]]\n",
    "minyear = oneFemale[oneFemale['year'] == oneFemale['year'].min()]\n",
    "first_woman_name = minyear[\"full_name\"].values[0]\n",
    "first_woman_category = minyear[\"category\"].values[0]\n",
    "\n",
    "#5\n",
    "number = nobel[\"full_name\"].value_counts()\n",
    "repeat_list = list(number[number >= 2].index)\n",
    "\n",
    "print(max_female_dict)\n"
   ]
  },
  {
   "cell_type": "code",
   "execution_count": null,
   "id": "9c24e8a4-5308-46cc-ae78-908090c12420",
   "metadata": {},
   "outputs": [],
   "source": [
    "df['femalocal'] = df[sex] == 'Female'\n",
    "\n",
    "femolocolol = df.groupby(['decade', 'category'])['female'].mean()"
   ]
  }
 ],
 "metadata": {
  "editor": "DataCamp Workspace",
  "kernelspec": {
   "display_name": "Python 3 (ipykernel)",
   "language": "python",
   "name": "python3"
  },
  "language_info": {
   "codemirror_mode": {
    "name": "ipython",
    "version": 3
   },
   "file_extension": ".py",
   "mimetype": "text/x-python",
   "name": "python",
   "nbconvert_exporter": "python",
   "pygments_lexer": "ipython3",
   "version": "3.11.7"
  }
 },
 "nbformat": 4,
 "nbformat_minor": 5
}
