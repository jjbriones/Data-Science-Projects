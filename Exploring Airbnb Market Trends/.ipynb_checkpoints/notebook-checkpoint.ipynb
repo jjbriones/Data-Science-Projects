{
 "cells": [
  {
   "cell_type": "markdown",
   "id": "c747d469-ee97-4b95-880f-feefd5456042",
   "metadata": {
    "id": "bA5ajAmk7XH6"
   },
   "source": [
    "![NYC Skyline](nyc.jpg)\n",
    "\n",
    "Welcome to New York City, one of the most-visited cities in the world. There are many Airbnb listings in New York City to meet the high demand for temporary lodging for travelers, which can be anywhere between a few nights to many months. In this project, we will take a closer look at the New York Airbnb market by combining data from multiple file types like `.csv`, `.tsv`, and `.xlsx`.\n",
    "\n",
    "Recall that **CSV**, **TSV**, and **Excel** files are three common formats for storing data. \n",
    "Three files containing data on 2019 Airbnb listings are available to you:\n",
    "\n",
    "**data/airbnb_price.csv**\n",
    "This is a CSV file containing data on Airbnb listing prices and locations.\n",
    "- **`listing_id`**: unique identifier of listing\n",
    "- **`price`**: nightly listing price in USD\n",
    "- **`nbhood_full`**: name of borough and neighborhood where listing is located\n",
    "\n",
    "**data/airbnb_room_type.xlsx**\n",
    "This is an Excel file containing data on Airbnb listing descriptions and room types.\n",
    "- **`listing_id`**: unique identifier of listing\n",
    "- **`description`**: listing description\n",
    "- **`room_type`**: Airbnb has three types of rooms: shared rooms, private rooms, and entire homes/apartments\n",
    "\n",
    "**data/airbnb_last_review.tsv**\n",
    "This is a TSV file containing data on Airbnb host names and review dates.\n",
    "- **`listing_id`**: unique identifier of listing\n",
    "- **`host_name`**: name of listing host\n",
    "- **`last_review`**: date when the listing was last reviewed"
   ]
  },
  {
   "cell_type": "code",
   "execution_count": 60,
   "id": "1fdc5784-479e-46cb-b05b-68439dcc94a7",
   "metadata": {
    "executionCancelledAt": null,
    "executionTime": 1421,
    "lastExecutedAt": 1710252128169,
    "lastScheduledRunId": null,
    "lastSuccessfullyExecutedCode": "# We've loaded your first package for you! You can add as many cells as you need.\nimport numpy as np\nimport pandas as pd\n\n# Begin coding here ...\ndf_price = pd.read_csv('data/airbnb_price.csv')\ndf_room_type = pd.read_excel('data/airbnb_room_type.xlsx')\ndf_last_review = pd.read_table('data/airbnb_last_review.tsv')\n\ndf_airbnb_price = df_price.copy()\ndf_airbnb_room_type = df_room_type.copy()\ndf_airbnb_last_review = df_last_review.copy()\n\n#Earliest and Most recent reviews\ndf_airbnb_last_review['last_review'] = pd.to_datetime(df_airbnb_last_review['last_review']).dt.date\nearliest_review = df_airbnb_last_review['last_review'].min()\nmost_recent_review = df_airbnb_last_review['last_review'].max()\n\n#Private Rooms\ndf_airbnb_room_type['room_type'] = df_airbnb_room_type['room_type'].str.lower()\nprivate_rooms_count = df_airbnb_room_type['room_type'].value_counts().values[1]\n\n#Average listing price\ndf_airbnb_price['price'] = df_airbnb_price['price'].str.replace(\"dollars\", \"\").str.strip().astype('int')\naverage_listing_price = round(df_airbnb_price['price'].mean(), 2)\n\nd = {'first_reviewed': [earliest_review], 'last_reviewed': [most_recent_review], 'nb_private_rooms': [private_rooms_count], 'avg_price': [average_listing_price]}\nreview_dates = pd.DataFrame(d)\n\nreview_dates ",
    "outputsMetadata": {
     "0": {
      "height": 98,
      "type": "dataFrame"
     }
    }
   },
   "outputs": [
    {
     "data": {
      "application/com.datacamp.data-table.v2+json": {
       "table": {
        "data": {
         "avg_price": [
          141.78
         ],
         "first_reviewed": [
          "2019-01-01T00:00:00.000"
         ],
         "index": [
          0
         ],
         "last_reviewed": [
          "2019-07-09T00:00:00.000"
         ],
         "nb_private_rooms": [
          11356
         ]
        },
        "schema": {
         "fields": [
          {
           "name": "index",
           "type": "integer"
          },
          {
           "name": "first_reviewed",
           "type": "string"
          },
          {
           "name": "last_reviewed",
           "type": "string"
          },
          {
           "name": "nb_private_rooms",
           "type": "integer"
          },
          {
           "name": "avg_price",
           "type": "number"
          }
         ],
         "pandas_version": "1.4.0",
         "primaryKey": [
          "index"
         ]
        }
       },
       "total_rows": 1,
       "truncation_type": null
      },
      "text/html": [
       "<div>\n",
       "<style scoped>\n",
       "    .dataframe tbody tr th:only-of-type {\n",
       "        vertical-align: middle;\n",
       "    }\n",
       "\n",
       "    .dataframe tbody tr th {\n",
       "        vertical-align: top;\n",
       "    }\n",
       "\n",
       "    .dataframe thead th {\n",
       "        text-align: right;\n",
       "    }\n",
       "</style>\n",
       "<table border=\"1\" class=\"dataframe\">\n",
       "  <thead>\n",
       "    <tr style=\"text-align: right;\">\n",
       "      <th></th>\n",
       "      <th>first_reviewed</th>\n",
       "      <th>last_reviewed</th>\n",
       "      <th>nb_private_rooms</th>\n",
       "      <th>avg_price</th>\n",
       "    </tr>\n",
       "  </thead>\n",
       "  <tbody>\n",
       "    <tr>\n",
       "      <th>0</th>\n",
       "      <td>2019-01-01</td>\n",
       "      <td>2019-07-09</td>\n",
       "      <td>11356</td>\n",
       "      <td>141.78</td>\n",
       "    </tr>\n",
       "  </tbody>\n",
       "</table>\n",
       "</div>"
      ],
      "text/plain": [
       "  first_reviewed last_reviewed  nb_private_rooms  avg_price\n",
       "0     2019-01-01    2019-07-09             11356     141.78"
      ]
     },
     "execution_count": 60,
     "metadata": {},
     "output_type": "execute_result"
    }
   ],
   "source": [
    "\n",
    "import numpy as np\n",
    "import pandas as pd\n",
    "\n",
    "\n",
    "df_price = pd.read_csv('data/airbnb_price.csv')\n",
    "df_room_type = pd.read_excel('data/airbnb_room_type.xlsx')\n",
    "df_last_review = pd.read_table('data/airbnb_last_review.tsv')\n",
    "\n",
    "df_airbnb_price = df_price.copy()\n",
    "df_airbnb_room_type = df_room_type.copy()\n",
    "df_airbnb_last_review = df_last_review.copy()\n",
    "\n",
    "#Earliest and Most recent reviews\n",
    "df_airbnb_last_review['last_review'] = pd.to_datetime(df_airbnb_last_review['last_review']).dt.date\n",
    "earliest_review = df_airbnb_last_review['last_review'].min()\n",
    "most_recent_review = df_airbnb_last_review['last_review'].max()\n",
    "\n",
    "#Private Rooms\n",
    "df_airbnb_room_type['room_type'] = df_airbnb_room_type['room_type'].str.lower()\n",
    "private_rooms_count = df_airbnb_room_type['room_type'].value_counts().values[1]\n",
    "\n",
    "#Average listing price\n",
    "df_airbnb_price['price'] = df_airbnb_price['price'].str.replace(\"dollars\", \"\").str.strip().astype('int')\n",
    "average_listing_price = round(df_airbnb_price['price'].mean(), 2)\n",
    "\n",
    "d = {'first_reviewed': [earliest_review], 'last_reviewed': [most_recent_review], 'nb_private_rooms': [private_rooms_count], 'avg_price': [average_listing_price]}\n",
    "review_dates = pd.DataFrame(d)\n",
    "\n",
    "review_dates "
   ]
  }
 ],
 "metadata": {
  "colab": {
   "name": "Welcome to DataCamp Workspaces.ipynb",
   "provenance": []
  },
  "kernelspec": {
   "display_name": "Python 3 (ipykernel)",
   "language": "python",
   "name": "python3"
  },
  "language_info": {
   "codemirror_mode": {
    "name": "ipython",
    "version": 3
   },
   "file_extension": ".py",
   "mimetype": "text/x-python",
   "name": "python",
   "nbconvert_exporter": "python",
   "pygments_lexer": "ipython3",
   "version": "3.11.7"
  }
 },
 "nbformat": 4,
 "nbformat_minor": 5
}
